{
 "cells": [
  {
   "cell_type": "code",
   "execution_count": 1,
   "metadata": {},
   "outputs": [],
   "source": [
    "import matplotlib.pyplot as plt\n",
    "import numpy as np\n",
    "import ipywidgets as widgets\n",
    "from ipywidgets import interactive\n",
    "%matplotlib inline"
   ]
  },
  {
   "cell_type": "code",
   "execution_count": 2,
   "metadata": {},
   "outputs": [],
   "source": [
    "def beta_function(current_tick, max_weight, tick_when_max_growth_is_achieved, tick_end_of_growth_period):\n",
    "    return max_weight * (1. + (tick_end_of_growth_period - current_tick)/(tick_end_of_growth_period - tick_when_max_growth_is_achieved)) * (current_tick/tick_end_of_growth_period)**((tick_end_of_growth_period)/(tick_end_of_growth_period - tick_when_max_growth_is_achieved))\n",
    "\n",
    "def rgr(current_tick, max_weight, tick_when_max_growth_is_achieved, tick_end_of_growth_period):\n",
    "    if current_tick == 0:\n",
    "        return 0\n",
    "    weight = beta_function(current_tick, max_weight, tick_when_max_growth_is_achieved, tick_end_of_growth_period)\n",
    "    return weight*((2*tick_end_of_growth_period-tick_when_max_growth_is_achieved)*(tick_end_of_growth_period-current_tick))/((tick_end_of_growth_period-tick_when_max_growth_is_achieved)*(2*tick_end_of_growth_period-tick_when_max_growth_is_achieved-current_tick)*current_tick)"
   ]
  },
  {
   "cell_type": "code",
   "execution_count": 3,
   "metadata": {},
   "outputs": [],
   "source": [
    "def graph(max_weight, tick_when_max_growth_is_achieved, tick_end_of_growth_period):\n",
    "    x = np.arange(100)\n",
    "    y = np.array([beta_function(xi, max_weight, tick_when_max_growth_is_achieved, tick_end_of_growth_period) for xi in x])\n",
    "    y2 = np.array([rgr(xi, max_weight, tick_when_max_growth_is_achieved, tick_end_of_growth_period) for xi in x])\n",
    "\n",
    "    fig, ax = plt.subplots(nrows=1, ncols=1);\n",
    "    ax.plot(x, y)\n",
    "    ax.set_xlabel('x')\n",
    "    ax.set_ylabel('y')\n",
    "\n",
    "    plt.show()"
   ]
  },
  {
   "cell_type": "code",
   "execution_count": 4,
   "metadata": {},
   "outputs": [
    {
     "data": {
      "application/vnd.jupyter.widget-view+json": {
       "model_id": "ebfa22d29510412691b2a8a1e04de61e",
       "version_major": 2,
       "version_minor": 0
      },
      "text/plain": [
       "aW50ZXJhY3RpdmUoY2hpbGRyZW49KEZsb2F0U2xpZGVyKHZhbHVlPTUwMC4wLCBkZXNjcmlwdGlvbj11J21heF93ZWlnaHQnLCBtYXg9MTUwMC4wLCBtaW49LTUwMC4wKSwgRmxvYXRTbGlkZXLigKY=\n"
      ]
     },
     "metadata": {},
     "output_type": "display_data"
    }
   ],
   "source": [
    "interactive(graph, max_weight=500.0, tick_when_max_growth_is_achieved=70.0, tick_end_of_growth_period=100.0)"
   ]
  }
 ],
 "metadata": {
  "kernelspec": {
   "display_name": "Python 2",
   "language": "python",
   "name": "python2"
  },
  "language_info": {
   "codemirror_mode": {
    "name": "ipython",
    "version": 2
   },
   "file_extension": ".py",
   "mimetype": "text/x-python",
   "name": "python",
   "nbconvert_exporter": "python",
   "pygments_lexer": "ipython2",
   "version": "2.7.11"
  }
 },
 "nbformat": 4,
 "nbformat_minor": 2
}
